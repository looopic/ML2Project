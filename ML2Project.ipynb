{
  "nbformat": 4,
  "nbformat_minor": 0,
  "metadata": {
    "colab": {
      "provenance": [],
      "collapsed_sections": [
        "Y6xGoGSZnEXv"
      ],
      "machine_shape": "hm",
      "authorship_tag": "ABX9TyMRYAuNZ6AL43yLL0xTdTbF",
      "include_colab_link": true
    },
    "kernelspec": {
      "name": "python3",
      "display_name": "Python 3"
    },
    "language_info": {
      "name": "python"
    }
  },
  "cells": [
    {
      "cell_type": "markdown",
      "metadata": {
        "id": "view-in-github",
        "colab_type": "text"
      },
      "source": [
        "<a href=\"https://colab.research.google.com/github/looopic/ML2Project/blob/main/ML2Project.ipynb\" target=\"_parent\"><img src=\"https://colab.research.google.com/assets/colab-badge.svg\" alt=\"Open In Colab\"/></a>"
      ]
    },
    {
      "cell_type": "markdown",
      "source": [
        "# Visual text recognition model by Carlo Huser (husercar@students.zhaw.ch)\n",
        "\n",
        "\n",
        "This model is used to extract the ingredients from an image of groceries. I want to use this model to build an app to detect allergies or intolerances on specific ingredients."
      ],
      "metadata": {
        "id": "SycYOONrmClP"
      }
    },
    {
      "cell_type": "markdown",
      "source": [
        "# Data\n",
        "I was thinking of making my own dataset for this problem, but I quickly found out, that it's too time consuming to annotate every single picture on my own.\n",
        "Therefore I searched the internet for a dataset I could use and found the TextOCR dataset on kaggle (https://www.kaggle.com/datasets/robikscube/textocr-text-extraction-from-images-dataset?select=annot.csv)\n",
        "\n",
        "Please use one of the two options below to download the dataset to the /content-folder. For the kaggle-option, you need to download your api-json first."
      ],
      "metadata": {
        "id": "Y6xGoGSZnEXv"
      }
    },
    {
      "cell_type": "code",
      "source": [
        "!gdown 1zg0ofaVhgnJQ4bmfLeo5MG1iAtoT2HnO\n",
        "!unzip OCR_data.zip"
      ],
      "metadata": {
        "id": "peOEjFwh2aKe"
      },
      "execution_count": null,
      "outputs": []
    },
    {
      "cell_type": "code",
      "source": [
        "# upload your kaggle api json-file\n",
        "from google.colab import files\n",
        "files.upload()\n",
        "\n",
        "!rm -r ~/.kaggle\n",
        "!mkdir ~/.kaggle\n",
        "!mv ./kaggle.json ~/.kaggle/\n",
        "!chmod 600 ~/.kaggle/kaggle.json\n",
        "\n",
        "\n",
        "\n",
        "!kaggle datasets download -d robikscube/textocr-text-extraction-from-images-dataset\n",
        "!unzip textocr-text-extraction-from-images-dataset.zip\n"
      ],
      "metadata": {
        "id": "BEswzSwl897Y"
      },
      "execution_count": null,
      "outputs": []
    },
    {
      "cell_type": "markdown",
      "source": [
        "# Preprocess Images\n",
        "\n",
        "Due to the images being real photographs, there are multiple words on each image. I need to extract those words on their own, so that i can label that word.\n",
        "\n",
        "ATTENTION! The whole preprocessing can last up to 10 hours! You can interrupt the preprocessing earlier if you want to."
      ],
      "metadata": {
        "id": "vNxVpYuBCAGA"
      }
    },
    {
      "cell_type": "code",
      "source": [
        "import os\n",
        "import csv\n",
        "import cv2\n",
        "import numpy as np\n",
        "import math\n",
        "from sklearn.preprocessing import LabelEncoder\n",
        "from tqdm import tqdm"
      ],
      "metadata": {
        "id": "kHMsBTHfKClN"
      },
      "execution_count": null,
      "outputs": []
    },
    {
      "cell_type": "code",
      "source": [
        "def roundup(x):\n",
        "    return int(math.ceil(x / 10.0)) * 10"
      ],
      "metadata": {
        "id": "YftwycerKLLB"
      },
      "execution_count": null,
      "outputs": []
    },
    {
      "cell_type": "code",
      "source": [
        "def preprocess(img):\n",
        "\told_h,old_w=img.shape[0],img.shape[1]\n",
        "  \n",
        "\t#Pad the height.\n",
        "\t#If height is less than 512 then pad to 512\n",
        "\tif old_h<512:\n",
        "\t\tto_pad=np.ones((512-old_h,old_w,3))*255\n",
        "\t\timg=np.concatenate((img,to_pad))\n",
        "\t\tnew_height=512\n",
        "\telse:\n",
        "\t#If height >512 then pad to nearest 10.\n",
        "\t\tto_pad=np.ones((roundup(old_h)-old_h,old_w,3))*255\n",
        "\t\timg=np.concatenate((img,to_pad))\n",
        "\t\tnew_height=roundup(old_h)\n",
        "\n",
        "\t#Pad the width.\n",
        "\tif old_w<512:\n",
        "\t\tto_pad=np.ones((new_height,512-old_w,3))*255\n",
        "\t\timg=np.concatenate((img,to_pad),axis=1)\n",
        "\t\tnew_width=512\n",
        "\telse:\n",
        "\t\tto_pad=np.ones((new_height,roundup(old_w)-old_w,3))*255\n",
        "\t\timg=np.concatenate((img,to_pad),axis=1)\n",
        "\t\tnew_width=roundup(old_w)-old_w\n",
        "\treturn img"
      ],
      "metadata": {
        "id": "mF4yGvinI3mE"
      },
      "execution_count": null,
      "outputs": []
    },
    {
      "cell_type": "code",
      "source": [
        "# initialize arrays to store data and labels\n",
        "images = []\n",
        "labels = []\n",
        "\n",
        "num_iterations = 2048\n",
        "\n",
        "# Create directories to store the images\n",
        "image_dir = '/content/preprocessed_images/'\n",
        "os.makedirs(image_dir, exist_ok=True)\n",
        "\n",
        "# remove all pictures in preprocessed\n",
        "image_dir = '/content/preprocessed_images/'\n",
        "file_list = os.listdir(image_dir)\n",
        "for file_name in file_list:\n",
        "    file_path = os.path.join(image_dir, file_name)\n",
        "    os.remove(file_path)\n",
        "\n",
        "# read annotations csv file\n",
        "with open('/content/annot.csv','r') as csvfile:\n",
        "  reader = csv.reader(csvfile)\n",
        "  \n",
        "  #skip header\n",
        "  next(reader)\n",
        "\n",
        "  iterations = 0\n",
        "\n",
        "  for row in tqdm(reader):\n",
        "    image_path = \"/content/train_val_images/train_images/\"+row[2]+\".jpg\"\n",
        "    boundary = row[5].strip('[]').split(',')\n",
        "    boundaryArray = [float(value) for value in boundary]\n",
        "    boundaryXmin = int(min(boundaryArray[0], boundaryArray[2], boundaryArray[4], boundaryArray[6]))\n",
        "    boundaryXmax = int(max(boundaryArray[0], boundaryArray[2], boundaryArray[4], boundaryArray[6]))\n",
        "    boundaryYmin = int(min(boundaryArray[1], boundaryArray[3], boundaryArray[5], boundaryArray[7]))\n",
        "    boundaryYmax = int(max(boundaryArray[1], boundaryArray[3], boundaryArray[5], boundaryArray[7]))\n",
        "    text = row[4]\n",
        "    name = row[0]\n",
        "\n",
        "    #load image\n",
        "    image = cv2.imread(image_path)\n",
        "\n",
        "    #extract text region\n",
        "    text_region = image[boundaryYmin:boundaryYmax, boundaryXmin:boundaryXmax]\n",
        "\n",
        "    #preprocess text region\n",
        "    text_region = preprocess(text_region)\n",
        "\n",
        "    # Generate a unique filename for each image\n",
        "    image_filename = f\"{name}.jpg\"\n",
        "\n",
        "    # Save the preprocessed image to disk\n",
        "    image_path = os.path.join(image_dir, image_filename)\n",
        "    cv2.imwrite(image_path, text_region)\n",
        "\n",
        "    #append data to arrays\n",
        "    images.append(image_filename)\n",
        "    labels.append(text)\n",
        "\n",
        "    iterations += 1\n",
        "\n",
        "    if iterations == num_iterations:\n",
        "            break\n"
      ],
      "metadata": {
        "colab": {
          "base_uri": "https://localhost:8080/"
        },
        "id": "6sn_VI1HCggr",
        "outputId": "fb358e0f-6ca9-4f2b-ffee-6200e3e9bfe2"
      },
      "execution_count": null,
      "outputs": [
        {
          "output_type": "stream",
          "name": "stderr",
          "text": [
            "2047it [00:43, 47.31it/s]\n"
          ]
        }
      ]
    },
    {
      "cell_type": "code",
      "source": [
        "#encode labels to numerical values\n",
        "label_encoder = LabelEncoder()\n",
        "label_encoder.fit(labels)\n",
        "encoded_labels = label_encoder.transform(labels)"
      ],
      "metadata": {
        "id": "FdnhHqijY82W"
      },
      "execution_count": null,
      "outputs": []
    },
    {
      "cell_type": "markdown",
      "source": [
        "# Model\n",
        "\n",
        "I'm following the tutorial on medium.com (https://medium.com/geekculture/building-a-complete-ocr-engine-from-scratch-in-python-be1fd184753b)\n",
        "But due to my data not being compiled the same as the data this tutorial uses, I had to adjust practically the whole data preprocessing."
      ],
      "metadata": {
        "id": "HDutK2Jhm_BX"
      }
    },
    {
      "cell_type": "code",
      "source": [
        "from keras.layers import *\n",
        "from keras.models import Model\n",
        "from keras.optimizers import Adam\n",
        "from keras.callbacks import ModelCheckpoint, EarlyStopping\n",
        "import random\n",
        "import tensorflow as tf\n",
        "import gc"
      ],
      "metadata": {
        "id": "kW_1rM5VVrZG"
      },
      "execution_count": null,
      "outputs": []
    },
    {
      "cell_type": "code",
      "source": [
        "batch_size = 16\n",
        "\n",
        "random_indices = np.arange(len(images))\n",
        "num_samples = len(images)\n",
        "num_batches = num_samples // batch_size\n",
        "num_samples = num_batches * batch_size\n",
        "random_indices = random_indices[:num_samples]\n",
        "np.random.shuffle(random_indices)\n",
        "training_indices=random_indices[0:int(0.9*len(random_indices))]\n",
        "test_indices=random_indices[int(0.9*len(random_indices)):]\n",
        "\n",
        "def batch_generator(indices, images, encoded_labels, batch_size):\n",
        "    while True:\n",
        "        X = []\n",
        "        Y = []\n",
        "        for i in range(batch_size):\n",
        "            index = random.choice(indices)\n",
        "            fn = images[index]\n",
        "            img = cv2.imread(f'/content/preprocessed_images/{fn}', cv2.IMREAD_COLOR)\n",
        "\n",
        "            # Convert the image to grayscale\n",
        "            img = cv2.cvtColor(img, cv2.COLOR_BGR2GRAY)\n",
        "\n",
        "\n",
        "            label = encoded_labels[index]\n",
        "            X.append(img)\n",
        "            Y.append(label)\n",
        "            del img, label\n",
        "            \n",
        "        X = np.array(X)\n",
        "        Y = np.array(Y)\n",
        "\n",
        "        print(X.shape, Y.shape)\n",
        "\n",
        "        yield X, Y"
      ],
      "metadata": {
        "id": "j60_bT69V29X"
      },
      "execution_count": null,
      "outputs": []
    },
    {
      "cell_type": "code",
      "source": [
        "def unet(pretrained_weights = None,input_size = (512,512,3)):\n",
        "  inputs = Input(input_size)\n",
        "  conv1 = Conv2D(64, 3, activation = 'relu', padding = 'same', kernel_initializer = 'he_normal')(inputs)\n",
        "  #conv1 = Conv2D(64, 3, activation = 'relu', padding = 'same', kernel_initializer = 'he_normal')(conv1)\n",
        "  pool1 = MaxPooling2D(pool_size=(2, 2))(conv1)\n",
        "  conv2 = Conv2D(128, 3, activation = 'relu', padding = 'same', kernel_initializer = 'he_normal')(pool1)\n",
        "  #conv2 = Conv2D(128, 3, activation = 'relu', padding = 'same', kernel_initializer = 'he_normal')(conv2)\n",
        "  pool2 = MaxPooling2D(pool_size=(2, 2))(conv2)\n",
        "  conv3 = Conv2D(256, 3, activation = 'relu', padding = 'same', kernel_initializer = 'he_normal')(pool2)\n",
        "  #conv3 = Conv2D(256, 3, activation = 'relu', padding = 'same', kernel_initializer = 'he_normal')(conv3)\n",
        "  pool3 = MaxPooling2D(pool_size=(2, 2))(conv3)\n",
        "  conv4 = Conv2D(512, 3, activation = 'relu', padding = 'same', kernel_initializer = 'he_normal')(pool3)\n",
        "  #conv4 = Conv2D(512, 3, activation = 'relu', padding = 'same', kernel_initializer = 'he_normal')(conv4)\n",
        "  drop4 = Dropout(0.5)(conv4)\n",
        "  pool4 = MaxPooling2D(pool_size=(2, 2))(drop4)\n",
        "\n",
        "  conv5 = Conv2D(1024, 3, activation = 'relu', padding = 'same', kernel_initializer = 'he_normal')(pool4)\n",
        "  #conv5 = Conv2D(1024, 3, activation = 'relu', padding = 'same', kernel_initializer = 'he_normal')(conv5)\n",
        "  drop5 = Dropout(0.5)(conv5)\n",
        "\n",
        "  up6 = Conv2D(512, 2, activation = 'relu', padding = 'same', kernel_initializer = 'he_normal')(UpSampling2D(size = (2,2))(drop5))\n",
        "  merge6 = concatenate([drop4,up6], axis = 3)\n",
        "  conv6 = Conv2D(512, 3, activation = 'relu', padding = 'same', kernel_initializer = 'he_normal')(merge6)\n",
        "  #conv6 = Conv2D(512, 3, activation = 'relu', padding = 'same', kernel_initializer = 'he_normal')(conv6)\n",
        "\n",
        "  up7 = Conv2D(256, 2, activation = 'relu', padding = 'same', kernel_initializer = 'he_normal')(UpSampling2D(size = (2,2))(conv6))\n",
        "  merge7 = concatenate([conv3,up7], axis = 3)\n",
        "  conv7 = Conv2D(256, 3, activation = 'relu', padding = 'same', kernel_initializer = 'he_normal')(merge7)\n",
        "  #conv7 = Conv2D(256, 3, activation = 'relu', padding = 'same', kernel_initializer = 'he_normal')(conv7)\n",
        "\n",
        "  up8 = Conv2D(128, 2, activation = 'relu', padding = 'same', kernel_initializer = 'he_normal')(UpSampling2D(size = (2,2))(conv7))\n",
        "  merge8 = concatenate([conv2,up8], axis = 3)\n",
        "  conv8 = Conv2D(128, 3, activation = 'relu', padding = 'same', kernel_initializer = 'he_normal')(merge8)\n",
        "  #conv8 = Conv2D(128, 3, activation = 'relu', padding = 'same', kernel_initializer = 'he_normal')(conv8)\n",
        "\n",
        "  up9 = Conv2D(64, 2, activation = 'relu', padding = 'same', kernel_initializer = 'he_normal')(UpSampling2D(size = (2,2))(conv8))\n",
        "  merge9 = concatenate([conv1,up9], axis = 3)\n",
        "  conv9 = Conv2D(64, 3, activation = 'relu', padding = 'same', kernel_initializer = 'he_normal')(merge9)\n",
        "  #conv9 = Conv2D(64, 3, activation = 'relu', padding = 'same', kernel_initializer = 'he_normal')(conv9)\n",
        "  conv9 = Conv2D(2, 3, activation = 'relu', padding = 'same', kernel_initializer = 'he_normal')(conv9)\n",
        "  num_classes = len(label_encoder.classes_)\n",
        "  conv10 = Conv2D(num_classes, 1, activation='softmax')(conv9)\n",
        "\n",
        "  model = Model(inputs,conv10)\n",
        "\n",
        "  model.compile(optimizer = Adam(learning_rate=0.001), loss = tf.keras.losses.SparseCategoricalCrossentropy(), metrics = ['accuracy'])\n",
        "  \n",
        "  #model.summary()\n",
        "\n",
        "  if(pretrained_weights):\n",
        "    model.load_weights(pretrained_weights)\n",
        "\n",
        "  return model\n",
        "\n",
        "model=unet()\n",
        "\n",
        "\n",
        "mc = ModelCheckpoint('/content/checkpoints/weights{epoch:08d}.h5',save_weights_only=True, save_freq=1,verbose = 1)\n",
        "ec = EarlyStopping(patience=3, restore_best_weights=True)"
      ],
      "metadata": {
        "id": "GSnzuZioMD2U"
      },
      "execution_count": null,
      "outputs": []
    },
    {
      "cell_type": "code",
      "source": [
        "# Create a dataset from image paths and labels\n",
        "dataset = tf.data.Dataset.from_tensor_slices((images, encoded_labels))\n",
        "\n",
        "# Define preprocessing and augmentation functions\n",
        "def preprocess_fn(image_path, label):\n",
        "\n",
        "  try:\n",
        "    # Join path components\n",
        "    image_path = '/content/preprocessed_images/' + image_path\n",
        "\n",
        "    # Remove trailing '/'\n",
        "    image_path = tf.strings.regex_replace(image_path, '/.jpg$', '.jpg')\n",
        "\n",
        "    # Load and preprocess the image\n",
        "    image = tf.io.read_file(image_path)\n",
        "    image = tf.image.decode_image(image, channels=3)\n",
        "    \n",
        "    return image, label\n",
        "  except tf.errors.NotFoundError:\n",
        "        # Skip the instance if the file is not found\n",
        "    return None, None\n",
        "\n",
        "\n",
        "\n",
        "\n",
        "# Apply preprocessing\n",
        "dataset = dataset.map(preprocess_fn)\n",
        "dataset = dataset.filter(lambda image, label: image is not None and label is not None)\n",
        "\n",
        "# Shuffle and batch the dataset\n",
        "dataset = dataset.shuffle(buffer_size=len(images))\n",
        "dataset = dataset.batch(batch_size)\n",
        "\n",
        "# Split into training and test datasets\n",
        "train_dataset = dataset.take(int(0.9 * len(images)))\n",
        "test_dataset = dataset.skip(int(0.9 * len(images)))\n"
      ],
      "metadata": {
        "id": "mOggvej_aPOP"
      },
      "execution_count": null,
      "outputs": []
    },
    {
      "cell_type": "code",
      "source": [
        "epochs = 1\n",
        "train_generator = batch_generator(training_indices, images, encoded_labels, batch_size)\n",
        "test_generator = batch_generator(test_indices, images, encoded_labels, batch_size)\n",
        "\n",
        "# Clear the memory after each epoch\n",
        "def clear_memory():\n",
        "    del train_generator\n",
        "    del test_generator\n",
        "    gc.collect()\n",
        "    tf.keras.backend.clear_session()\n",
        "\n",
        "for epoch in range(epochs):\n",
        "    print(f\"Epoch {epoch+1}/{epochs}\")\n",
        "    \n",
        "    # Train the model\n",
        "    model.fit(\n",
        "        train_dataset,\n",
        "        epochs=epochs,\n",
        "        validation_data=test_dataset,\n",
        "        callbacks=[mc, ec]\n",
        "    )\n",
        "\n",
        "   # Clear the memory\n",
        "    clear_memory()\n",
        "\n",
        "#for epoch in range(epochs):\n",
        "#  print(f\"Epoch {epoch+1}/{epochs}\")\n",
        "#\n",
        "#  # Train the model\n",
        "#  model.fit(\n",
        "#  train_generator,\n",
        "#  steps_per_epoch=len(training_indices) // batch_size,\n",
        "#  epochs=1,\n",
        "#  validation_data=test_generator,\n",
        "#  validation_steps=len(test_indices) // batch_size,\n",
        "#  callbacks=[mc, ec],\n",
        "#  shuffle=True\n",
        "#  )\n",
        "#\n",
        "#  # Clear the memory\n",
        "#  clear_memory()\n",
        "\n",
        "\n",
        "#model.evaluate(X_test, y_test)\n",
        "model.save('/content/ocr_model.h5')"
      ],
      "metadata": {
        "id": "OLN_8itrWCaJ",
        "colab": {
          "base_uri": "https://localhost:8080/"
        },
        "outputId": "cd4fdb2d-eff8-4c7e-abfa-cad285808e8d"
      },
      "execution_count": null,
      "outputs": [
        {
          "output_type": "stream",
          "name": "stdout",
          "text": [
            "Epoch 1/1\n"
          ]
        }
      ]
    },
    {
      "cell_type": "markdown",
      "source": [
        "# Evaluation and Comparision"
      ],
      "metadata": {
        "id": "wtwoGk-qyOJE"
      }
    },
    {
      "cell_type": "code",
      "source": [],
      "metadata": {
        "id": "wJTO4xRsyW-K"
      },
      "execution_count": null,
      "outputs": []
    }
  ]
}